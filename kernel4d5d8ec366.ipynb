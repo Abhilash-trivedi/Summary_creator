{
 "cells": [
  {
   "cell_type": "code",
   "execution_count": 1,
   "metadata": {
    "_cell_guid": "b1076dfc-b9ad-4769-8c92-a6c4dae69d19",
    "_uuid": "8f2839f25d086af736a60e9eeb907d3b93b6e0e5"
   },
   "outputs": [],
   "source": [
    "\n",
    "\n",
    "import numpy as np # linear algebra\n",
    "import pandas as pd # data processing, CSV file I/O (e.g. pd.read_csv)\n",
    "import json\n",
    "\n",
    "\n",
    "import os\n",
    "for dirname, _, filenames in os.walk('/kaggle/input'):\n",
    "    for filename in filenames:\n",
    "        print(os.path.join(dirname, filename))\n"
   ]
  },
  {
   "cell_type": "code",
   "execution_count": 2,
   "metadata": {
    "_cell_guid": "79c7e3d0-c299-4dcb-8224-4455121ee9b0",
    "_uuid": "d629ff2d2480ee46fbb7e2d37f6b5fab8052498a"
   },
   "outputs": [],
   "source": [
    "db=pd.read_json(\"None_articles1 (1).json\")"
   ]
  },
  {
   "cell_type": "code",
   "execution_count": 44,
   "metadata": {},
   "outputs": [],
   "source": [
    "# !pip install spacy\n",
    "# !python -m spacy download en_core_web_md\n"
   ]
  },
  {
   "cell_type": "code",
   "execution_count": 42,
   "metadata": {},
   "outputs": [],
   "source": [
    "\n",
    "# !pip install deeppavlov\n",
    "# !python -m deeppavlov install ner_ontonotes_bert"
   ]
  },
  {
   "cell_type": "code",
   "execution_count": 5,
   "metadata": {},
   "outputs": [],
   "source": [
    "db=db.drop(['Source','URL','publishedAt','LastUpdated','uid'],axis=1)"
   ]
  },
  {
   "cell_type": "code",
   "execution_count": 6,
   "metadata": {},
   "outputs": [
    {
     "data": {
      "text/html": [
       "<div>\n",
       "<style scoped>\n",
       "    .dataframe tbody tr th:only-of-type {\n",
       "        vertical-align: middle;\n",
       "    }\n",
       "\n",
       "    .dataframe tbody tr th {\n",
       "        vertical-align: top;\n",
       "    }\n",
       "\n",
       "    .dataframe thead th {\n",
       "        text-align: right;\n",
       "    }\n",
       "</style>\n",
       "<table border=\"1\" class=\"dataframe\">\n",
       "  <thead>\n",
       "    <tr style=\"text-align: right;\">\n",
       "      <th></th>\n",
       "      <th>Title</th>\n",
       "      <th>Content</th>\n",
       "      <th>query</th>\n",
       "    </tr>\n",
       "  </thead>\n",
       "  <tbody>\n",
       "    <tr>\n",
       "      <th>0</th>\n",
       "      <td>Mohammad Hosseini politician</td>\n",
       "      <td>Pak PM issues orders to keep Maryam Nawaz with...</td>\n",
       "      <td>Mohammad HOSSEINI</td>\n",
       "    </tr>\n",
       "    <tr>\n",
       "      <th>1</th>\n",
       "      <td>News about seyed-mohammad-hosseini</td>\n",
       "      <td>Expression patterns of seven key genes, includ...</td>\n",
       "      <td>Mohammad HOSSEINI</td>\n",
       "    </tr>\n",
       "    <tr>\n",
       "      <th>2</th>\n",
       "      <td>Documento DOUE-L-2014-81693</td>\n",
       "      <td>EL CONSEJO DE LA UNIÓN EUROPEA,\\nVisto el Trat...</td>\n",
       "      <td>AZOVSKY LIKEROVODOCHNY ZAVOD</td>\n",
       "    </tr>\n",
       "    <tr>\n",
       "      <th>3</th>\n",
       "      <td>Asser Institute</td>\n",
       "      <td>United States of America v. Ahmed Khalfan Ghai...</td>\n",
       "      <td>Ahmed Khalfan Ghailani</td>\n",
       "    </tr>\n",
       "    <tr>\n",
       "      <th>4</th>\n",
       "      <td>US sanctions Lebanon's Jammal Trust Bank over ...</td>\n",
       "      <td>The U.S. Treasury's Office of Foreign Assets C...</td>\n",
       "      <td>jammal trust bank s.a.l.</td>\n",
       "    </tr>\n",
       "    <tr>\n",
       "      <th>...</th>\n",
       "      <td>...</td>\n",
       "      <td>...</td>\n",
       "      <td>...</td>\n",
       "    </tr>\n",
       "    <tr>\n",
       "      <th>7803</th>\n",
       "      <td>Oleg Vakhovsky put in charge of Gazprom Transg...</td>\n",
       "      <td>Release\\nOleg Vakhovsky has been appointed Dir...</td>\n",
       "      <td>gazprom transgaz surgut, ooo</td>\n",
       "    </tr>\n",
       "    <tr>\n",
       "      <th>7804</th>\n",
       "      <td>OOO Gazprom personal - new subsidiary company ...</td>\n",
       "      <td>Release\\nGazprom has registered a new wholly-o...</td>\n",
       "      <td>gazprom transgaz surgut, ooo</td>\n",
       "    </tr>\n",
       "    <tr>\n",
       "      <th>7805</th>\n",
       "      <td>Syria’s Baniyas oil refinery “under Russian co...</td>\n",
       "      <td>Sources in Latakia said that Russian troops “a...</td>\n",
       "      <td>THE BANIYAS REFINERY COMPANY</td>\n",
       "    </tr>\n",
       "    <tr>\n",
       "      <th>7806</th>\n",
       "      <td>Banias Refinery Company -</td>\n",
       "      <td>Sector\\nAll sectors Accountants and auditors A...</td>\n",
       "      <td>THE BANIYAS REFINERY COMPANY</td>\n",
       "    </tr>\n",
       "    <tr>\n",
       "      <th>7807</th>\n",
       "      <td>Untitled Document</td>\n",
       "      <td>THE DOUBLE ECLIPSE OF THE MONTH OF RAMADAN\\nAn...</td>\n",
       "      <td>usamah ramadan mala'ikah</td>\n",
       "    </tr>\n",
       "  </tbody>\n",
       "</table>\n",
       "<p>7808 rows × 3 columns</p>\n",
       "</div>"
      ],
      "text/plain": [
       "                                                  Title  \\\n",
       "0                          Mohammad Hosseini politician   \n",
       "1                    News about seyed-mohammad-hosseini   \n",
       "2                           Documento DOUE-L-2014-81693   \n",
       "3                                       Asser Institute   \n",
       "4     US sanctions Lebanon's Jammal Trust Bank over ...   \n",
       "...                                                 ...   \n",
       "7803  Oleg Vakhovsky put in charge of Gazprom Transg...   \n",
       "7804  OOO Gazprom personal - new subsidiary company ...   \n",
       "7805  Syria’s Baniyas oil refinery “under Russian co...   \n",
       "7806                          Banias Refinery Company -   \n",
       "7807                                  Untitled Document   \n",
       "\n",
       "                                                Content  \\\n",
       "0     Pak PM issues orders to keep Maryam Nawaz with...   \n",
       "1     Expression patterns of seven key genes, includ...   \n",
       "2     EL CONSEJO DE LA UNIÓN EUROPEA,\\nVisto el Trat...   \n",
       "3     United States of America v. Ahmed Khalfan Ghai...   \n",
       "4     The U.S. Treasury's Office of Foreign Assets C...   \n",
       "...                                                 ...   \n",
       "7803  Release\\nOleg Vakhovsky has been appointed Dir...   \n",
       "7804  Release\\nGazprom has registered a new wholly-o...   \n",
       "7805  Sources in Latakia said that Russian troops “a...   \n",
       "7806  Sector\\nAll sectors Accountants and auditors A...   \n",
       "7807  THE DOUBLE ECLIPSE OF THE MONTH OF RAMADAN\\nAn...   \n",
       "\n",
       "                             query  \n",
       "0                Mohammad HOSSEINI  \n",
       "1                Mohammad HOSSEINI  \n",
       "2     AZOVSKY LIKEROVODOCHNY ZAVOD  \n",
       "3           Ahmed Khalfan Ghailani  \n",
       "4         jammal trust bank s.a.l.  \n",
       "...                            ...  \n",
       "7803  gazprom transgaz surgut, ooo  \n",
       "7804  gazprom transgaz surgut, ooo  \n",
       "7805  THE BANIYAS REFINERY COMPANY  \n",
       "7806  THE BANIYAS REFINERY COMPANY  \n",
       "7807      usamah ramadan mala'ikah  \n",
       "\n",
       "[7808 rows x 3 columns]"
      ]
     },
     "execution_count": 6,
     "metadata": {},
     "output_type": "execute_result"
    }
   ],
   "source": [
    "db"
   ]
  },
  {
   "cell_type": "code",
   "execution_count": 7,
   "metadata": {},
   "outputs": [],
   "source": [
    "db=db.drop(['query'],axis=1)"
   ]
  },
  {
   "cell_type": "code",
   "execution_count": 8,
   "metadata": {},
   "outputs": [
    {
     "data": {
      "text/html": [
       "<div>\n",
       "<style scoped>\n",
       "    .dataframe tbody tr th:only-of-type {\n",
       "        vertical-align: middle;\n",
       "    }\n",
       "\n",
       "    .dataframe tbody tr th {\n",
       "        vertical-align: top;\n",
       "    }\n",
       "\n",
       "    .dataframe thead th {\n",
       "        text-align: right;\n",
       "    }\n",
       "</style>\n",
       "<table border=\"1\" class=\"dataframe\">\n",
       "  <thead>\n",
       "    <tr style=\"text-align: right;\">\n",
       "      <th></th>\n",
       "      <th>Title</th>\n",
       "      <th>Content</th>\n",
       "    </tr>\n",
       "  </thead>\n",
       "  <tbody>\n",
       "    <tr>\n",
       "      <th>0</th>\n",
       "      <td>Mohammad Hosseini politician</td>\n",
       "      <td>Pak PM issues orders to keep Maryam Nawaz with...</td>\n",
       "    </tr>\n",
       "    <tr>\n",
       "      <th>1</th>\n",
       "      <td>News about seyed-mohammad-hosseini</td>\n",
       "      <td>Expression patterns of seven key genes, includ...</td>\n",
       "    </tr>\n",
       "    <tr>\n",
       "      <th>2</th>\n",
       "      <td>Documento DOUE-L-2014-81693</td>\n",
       "      <td>EL CONSEJO DE LA UNIÓN EUROPEA,\\nVisto el Trat...</td>\n",
       "    </tr>\n",
       "    <tr>\n",
       "      <th>3</th>\n",
       "      <td>Asser Institute</td>\n",
       "      <td>United States of America v. Ahmed Khalfan Ghai...</td>\n",
       "    </tr>\n",
       "    <tr>\n",
       "      <th>4</th>\n",
       "      <td>US sanctions Lebanon's Jammal Trust Bank over ...</td>\n",
       "      <td>The U.S. Treasury's Office of Foreign Assets C...</td>\n",
       "    </tr>\n",
       "    <tr>\n",
       "      <th>...</th>\n",
       "      <td>...</td>\n",
       "      <td>...</td>\n",
       "    </tr>\n",
       "    <tr>\n",
       "      <th>7803</th>\n",
       "      <td>Oleg Vakhovsky put in charge of Gazprom Transg...</td>\n",
       "      <td>Release\\nOleg Vakhovsky has been appointed Dir...</td>\n",
       "    </tr>\n",
       "    <tr>\n",
       "      <th>7804</th>\n",
       "      <td>OOO Gazprom personal - new subsidiary company ...</td>\n",
       "      <td>Release\\nGazprom has registered a new wholly-o...</td>\n",
       "    </tr>\n",
       "    <tr>\n",
       "      <th>7805</th>\n",
       "      <td>Syria’s Baniyas oil refinery “under Russian co...</td>\n",
       "      <td>Sources in Latakia said that Russian troops “a...</td>\n",
       "    </tr>\n",
       "    <tr>\n",
       "      <th>7806</th>\n",
       "      <td>Banias Refinery Company -</td>\n",
       "      <td>Sector\\nAll sectors Accountants and auditors A...</td>\n",
       "    </tr>\n",
       "    <tr>\n",
       "      <th>7807</th>\n",
       "      <td>Untitled Document</td>\n",
       "      <td>THE DOUBLE ECLIPSE OF THE MONTH OF RAMADAN\\nAn...</td>\n",
       "    </tr>\n",
       "  </tbody>\n",
       "</table>\n",
       "<p>7808 rows × 2 columns</p>\n",
       "</div>"
      ],
      "text/plain": [
       "                                                  Title  \\\n",
       "0                          Mohammad Hosseini politician   \n",
       "1                    News about seyed-mohammad-hosseini   \n",
       "2                           Documento DOUE-L-2014-81693   \n",
       "3                                       Asser Institute   \n",
       "4     US sanctions Lebanon's Jammal Trust Bank over ...   \n",
       "...                                                 ...   \n",
       "7803  Oleg Vakhovsky put in charge of Gazprom Transg...   \n",
       "7804  OOO Gazprom personal - new subsidiary company ...   \n",
       "7805  Syria’s Baniyas oil refinery “under Russian co...   \n",
       "7806                          Banias Refinery Company -   \n",
       "7807                                  Untitled Document   \n",
       "\n",
       "                                                Content  \n",
       "0     Pak PM issues orders to keep Maryam Nawaz with...  \n",
       "1     Expression patterns of seven key genes, includ...  \n",
       "2     EL CONSEJO DE LA UNIÓN EUROPEA,\\nVisto el Trat...  \n",
       "3     United States of America v. Ahmed Khalfan Ghai...  \n",
       "4     The U.S. Treasury's Office of Foreign Assets C...  \n",
       "...                                                 ...  \n",
       "7803  Release\\nOleg Vakhovsky has been appointed Dir...  \n",
       "7804  Release\\nGazprom has registered a new wholly-o...  \n",
       "7805  Sources in Latakia said that Russian troops “a...  \n",
       "7806  Sector\\nAll sectors Accountants and auditors A...  \n",
       "7807  THE DOUBLE ECLIPSE OF THE MONTH OF RAMADAN\\nAn...  \n",
       "\n",
       "[7808 rows x 2 columns]"
      ]
     },
     "execution_count": 8,
     "metadata": {},
     "output_type": "execute_result"
    }
   ],
   "source": [
    "db"
   ]
  },
  {
   "cell_type": "code",
   "execution_count": 9,
   "metadata": {},
   "outputs": [
    {
     "name": "stdout",
     "output_type": "stream",
     "text": [
      "Requirement already satisfied: spacy in /opt/anaconda3/lib/python3.7/site-packages (2.3.2)\n",
      "Requirement already satisfied: tqdm<5.0.0,>=4.38.0 in /opt/anaconda3/lib/python3.7/site-packages (from spacy) (4.41.1)\n",
      "Requirement already satisfied: srsly<1.1.0,>=1.0.2 in /opt/anaconda3/lib/python3.7/site-packages (from spacy) (1.0.2)\n",
      "Requirement already satisfied: thinc==7.4.1 in /opt/anaconda3/lib/python3.7/site-packages (from spacy) (7.4.1)\n",
      "Requirement already satisfied: murmurhash<1.1.0,>=0.28.0 in /opt/anaconda3/lib/python3.7/site-packages (from spacy) (1.0.2)\n",
      "Requirement already satisfied: blis<0.5.0,>=0.4.0 in /opt/anaconda3/lib/python3.7/site-packages (from spacy) (0.4.1)\n",
      "Requirement already satisfied: wasabi<1.1.0,>=0.4.0 in /opt/anaconda3/lib/python3.7/site-packages (from spacy) (0.8.0)\n",
      "Requirement already satisfied: requests<3.0.0,>=2.13.0 in /opt/anaconda3/lib/python3.7/site-packages (from spacy) (2.22.0)\n",
      "Requirement already satisfied: numpy>=1.15.0 in /opt/anaconda3/lib/python3.7/site-packages (from spacy) (1.18.0)\n",
      "Requirement already satisfied: plac<1.2.0,>=0.9.6 in /opt/anaconda3/lib/python3.7/site-packages (from spacy) (1.1.3)\n",
      "Requirement already satisfied: preshed<3.1.0,>=3.0.2 in /opt/anaconda3/lib/python3.7/site-packages (from spacy) (3.0.2)\n",
      "Requirement already satisfied: setuptools in /opt/anaconda3/lib/python3.7/site-packages (from spacy) (46.0.0.post20200309)\n",
      "Requirement already satisfied: cymem<2.1.0,>=2.0.2 in /opt/anaconda3/lib/python3.7/site-packages (from spacy) (2.0.3)\n",
      "Requirement already satisfied: catalogue<1.1.0,>=0.0.7 in /opt/anaconda3/lib/python3.7/site-packages (from spacy) (1.0.0)\n",
      "Requirement already satisfied: urllib3!=1.25.0,!=1.25.1,<1.26,>=1.21.1 in /opt/anaconda3/lib/python3.7/site-packages (from requests<3.0.0,>=2.13.0->spacy) (1.25.8)\n",
      "Requirement already satisfied: idna<2.9,>=2.5 in /opt/anaconda3/lib/python3.7/site-packages (from requests<3.0.0,>=2.13.0->spacy) (2.8)\n",
      "Requirement already satisfied: certifi>=2017.4.17 in /opt/anaconda3/lib/python3.7/site-packages (from requests<3.0.0,>=2.13.0->spacy) (2019.11.28)\n",
      "Requirement already satisfied: chardet<3.1.0,>=3.0.2 in /opt/anaconda3/lib/python3.7/site-packages (from requests<3.0.0,>=2.13.0->spacy) (3.0.4)\n",
      "Requirement already satisfied: importlib-metadata>=0.20; python_version < \"3.8\" in /opt/anaconda3/lib/python3.7/site-packages (from catalogue<1.1.0,>=0.0.7->spacy) (1.5.0)\n",
      "Requirement already satisfied: zipp>=0.5 in /opt/anaconda3/lib/python3.7/site-packages (from importlib-metadata>=0.20; python_version < \"3.8\"->catalogue<1.1.0,>=0.0.7->spacy) (2.2.0)\n",
      "Requirement already satisfied: en_core_web_md==2.3.1 from https://github.com/explosion/spacy-models/releases/download/en_core_web_md-2.3.1/en_core_web_md-2.3.1.tar.gz#egg=en_core_web_md==2.3.1 in /opt/anaconda3/lib/python3.7/site-packages (2.3.1)\n",
      "Requirement already satisfied: spacy<2.4.0,>=2.3.0 in /opt/anaconda3/lib/python3.7/site-packages (from en_core_web_md==2.3.1) (2.3.2)\n",
      "Requirement already satisfied: cymem<2.1.0,>=2.0.2 in /opt/anaconda3/lib/python3.7/site-packages (from spacy<2.4.0,>=2.3.0->en_core_web_md==2.3.1) (2.0.3)\n",
      "Requirement already satisfied: blis<0.5.0,>=0.4.0 in /opt/anaconda3/lib/python3.7/site-packages (from spacy<2.4.0,>=2.3.0->en_core_web_md==2.3.1) (0.4.1)\n",
      "Requirement already satisfied: srsly<1.1.0,>=1.0.2 in /opt/anaconda3/lib/python3.7/site-packages (from spacy<2.4.0,>=2.3.0->en_core_web_md==2.3.1) (1.0.2)\n",
      "Requirement already satisfied: tqdm<5.0.0,>=4.38.0 in /opt/anaconda3/lib/python3.7/site-packages (from spacy<2.4.0,>=2.3.0->en_core_web_md==2.3.1) (4.41.1)\n",
      "Requirement already satisfied: numpy>=1.15.0 in /opt/anaconda3/lib/python3.7/site-packages (from spacy<2.4.0,>=2.3.0->en_core_web_md==2.3.1) (1.18.0)\n",
      "Requirement already satisfied: thinc==7.4.1 in /opt/anaconda3/lib/python3.7/site-packages (from spacy<2.4.0,>=2.3.0->en_core_web_md==2.3.1) (7.4.1)\n",
      "Requirement already satisfied: setuptools in /opt/anaconda3/lib/python3.7/site-packages (from spacy<2.4.0,>=2.3.0->en_core_web_md==2.3.1) (46.0.0.post20200309)\n",
      "Requirement already satisfied: murmurhash<1.1.0,>=0.28.0 in /opt/anaconda3/lib/python3.7/site-packages (from spacy<2.4.0,>=2.3.0->en_core_web_md==2.3.1) (1.0.2)\n",
      "Requirement already satisfied: requests<3.0.0,>=2.13.0 in /opt/anaconda3/lib/python3.7/site-packages (from spacy<2.4.0,>=2.3.0->en_core_web_md==2.3.1) (2.22.0)\n",
      "Requirement already satisfied: preshed<3.1.0,>=3.0.2 in /opt/anaconda3/lib/python3.7/site-packages (from spacy<2.4.0,>=2.3.0->en_core_web_md==2.3.1) (3.0.2)\n",
      "Requirement already satisfied: catalogue<1.1.0,>=0.0.7 in /opt/anaconda3/lib/python3.7/site-packages (from spacy<2.4.0,>=2.3.0->en_core_web_md==2.3.1) (1.0.0)\n",
      "Requirement already satisfied: plac<1.2.0,>=0.9.6 in /opt/anaconda3/lib/python3.7/site-packages (from spacy<2.4.0,>=2.3.0->en_core_web_md==2.3.1) (1.1.3)\n",
      "Requirement already satisfied: wasabi<1.1.0,>=0.4.0 in /opt/anaconda3/lib/python3.7/site-packages (from spacy<2.4.0,>=2.3.0->en_core_web_md==2.3.1) (0.8.0)\n",
      "Requirement already satisfied: idna<2.9,>=2.5 in /opt/anaconda3/lib/python3.7/site-packages (from requests<3.0.0,>=2.13.0->spacy<2.4.0,>=2.3.0->en_core_web_md==2.3.1) (2.8)\n",
      "Requirement already satisfied: certifi>=2017.4.17 in /opt/anaconda3/lib/python3.7/site-packages (from requests<3.0.0,>=2.13.0->spacy<2.4.0,>=2.3.0->en_core_web_md==2.3.1) (2019.11.28)\n",
      "Requirement already satisfied: urllib3!=1.25.0,!=1.25.1,<1.26,>=1.21.1 in /opt/anaconda3/lib/python3.7/site-packages (from requests<3.0.0,>=2.13.0->spacy<2.4.0,>=2.3.0->en_core_web_md==2.3.1) (1.25.8)\n",
      "Requirement already satisfied: chardet<3.1.0,>=3.0.2 in /opt/anaconda3/lib/python3.7/site-packages (from requests<3.0.0,>=2.13.0->spacy<2.4.0,>=2.3.0->en_core_web_md==2.3.1) (3.0.4)\n",
      "Requirement already satisfied: importlib-metadata>=0.20; python_version < \"3.8\" in /opt/anaconda3/lib/python3.7/site-packages (from catalogue<1.1.0,>=0.0.7->spacy<2.4.0,>=2.3.0->en_core_web_md==2.3.1) (1.5.0)\n",
      "Requirement already satisfied: zipp>=0.5 in /opt/anaconda3/lib/python3.7/site-packages (from importlib-metadata>=0.20; python_version < \"3.8\"->catalogue<1.1.0,>=0.0.7->spacy<2.4.0,>=2.3.0->en_core_web_md==2.3.1) (2.2.0)\n",
      "\u001b[38;5;2m✔ Download and installation successful\u001b[0m\n",
      "You can now load the model via spacy.load('en_core_web_md')\n",
      "Requirement already satisfied: deeppavlov in /opt/anaconda3/lib/python3.7/site-packages (0.12.1)\n",
      "Requirement already satisfied: pandas==0.25.3 in /opt/anaconda3/lib/python3.7/site-packages (from deeppavlov) (0.25.3)\n",
      "Requirement already satisfied: tqdm==4.41.1 in /opt/anaconda3/lib/python3.7/site-packages (from deeppavlov) (4.41.1)\n",
      "Requirement already satisfied: h5py==2.10.0 in /opt/anaconda3/lib/python3.7/site-packages (from deeppavlov) (2.10.0)\n",
      "Requirement already satisfied: pytz==2019.1 in /opt/anaconda3/lib/python3.7/site-packages (from deeppavlov) (2019.1)\n",
      "Requirement already satisfied: scipy==1.4.1 in /opt/anaconda3/lib/python3.7/site-packages (from deeppavlov) (1.4.1)\n",
      "Requirement already satisfied: uvicorn==0.11.7 in /opt/anaconda3/lib/python3.7/site-packages (from deeppavlov) (0.11.7)\n",
      "Requirement already satisfied: numpy==1.18.0 in /opt/anaconda3/lib/python3.7/site-packages (from deeppavlov) (1.18.0)\n",
      "Requirement already satisfied: Cython==0.29.14 in /opt/anaconda3/lib/python3.7/site-packages (from deeppavlov) (0.29.14)\n",
      "Requirement already satisfied: requests==2.22.0 in /opt/anaconda3/lib/python3.7/site-packages (from deeppavlov) (2.22.0)\n",
      "Requirement already satisfied: pyopenssl==19.1.0 in /opt/anaconda3/lib/python3.7/site-packages (from deeppavlov) (19.1.0)\n",
      "Requirement already satisfied: aio-pika==6.4.1 in /opt/anaconda3/lib/python3.7/site-packages (from deeppavlov) (6.4.1)\n",
      "Requirement already satisfied: fastapi==0.47.1 in /opt/anaconda3/lib/python3.7/site-packages (from deeppavlov) (0.47.1)\n",
      "Requirement already satisfied: pymorphy2-dicts-ru in /opt/anaconda3/lib/python3.7/site-packages (from deeppavlov) (2.4.404381.4453942)\n",
      "Requirement already satisfied: scikit-learn==0.21.2 in /opt/anaconda3/lib/python3.7/site-packages (from deeppavlov) (0.21.2)\n",
      "Requirement already satisfied: pymorphy2==0.8 in /opt/anaconda3/lib/python3.7/site-packages (from deeppavlov) (0.8)\n",
      "Requirement already satisfied: sacremoses==0.0.35 in /opt/anaconda3/lib/python3.7/site-packages (from deeppavlov) (0.0.35)\n",
      "Requirement already satisfied: pydantic==1.3 in /opt/anaconda3/lib/python3.7/site-packages (from deeppavlov) (1.3)\n",
      "Requirement already satisfied: nltk==3.4.5 in /opt/anaconda3/lib/python3.7/site-packages (from deeppavlov) (3.4.5)\n"
     ]
    },
    {
     "name": "stdout",
     "output_type": "stream",
     "text": [
      "Requirement already satisfied: rusenttokenize==0.0.5 in /opt/anaconda3/lib/python3.7/site-packages (from deeppavlov) (0.0.5)\n",
      "Requirement already satisfied: ruamel.yaml==0.15.100 in /opt/anaconda3/lib/python3.7/site-packages (from deeppavlov) (0.15.100)\n",
      "Requirement already satisfied: click==7.1.2 in /opt/anaconda3/lib/python3.7/site-packages (from deeppavlov) (7.1.2)\n",
      "Requirement already satisfied: pytelegrambotapi==3.6.7 in /opt/anaconda3/lib/python3.7/site-packages (from deeppavlov) (3.6.7)\n",
      "Requirement already satisfied: overrides==2.7.0 in /opt/anaconda3/lib/python3.7/site-packages (from deeppavlov) (2.7.0)\n",
      "Requirement already satisfied: python-dateutil>=2.6.1 in /opt/anaconda3/lib/python3.7/site-packages (from pandas==0.25.3->deeppavlov) (2.8.1)\n",
      "Requirement already satisfied: six in /opt/anaconda3/lib/python3.7/site-packages (from h5py==2.10.0->deeppavlov) (1.14.0)\n",
      "Requirement already satisfied: httptools==0.1.*; sys_platform != \"win32\" and sys_platform != \"cygwin\" and platform_python_implementation != \"PyPy\" in /opt/anaconda3/lib/python3.7/site-packages (from uvicorn==0.11.7->deeppavlov) (0.1.1)\n",
      "Requirement already satisfied: h11<0.10,>=0.8 in /opt/anaconda3/lib/python3.7/site-packages (from uvicorn==0.11.7->deeppavlov) (0.9.0)\n",
      "Requirement already satisfied: uvloop>=0.14.0; sys_platform != \"win32\" and sys_platform != \"cygwin\" and platform_python_implementation != \"PyPy\" in /opt/anaconda3/lib/python3.7/site-packages (from uvicorn==0.11.7->deeppavlov) (0.14.0)\n",
      "Requirement already satisfied: websockets==8.* in /opt/anaconda3/lib/python3.7/site-packages (from uvicorn==0.11.7->deeppavlov) (8.1)\n",
      "Requirement already satisfied: urllib3!=1.25.0,!=1.25.1,<1.26,>=1.21.1 in /opt/anaconda3/lib/python3.7/site-packages (from requests==2.22.0->deeppavlov) (1.25.8)\n",
      "Requirement already satisfied: chardet<3.1.0,>=3.0.2 in /opt/anaconda3/lib/python3.7/site-packages (from requests==2.22.0->deeppavlov) (3.0.4)\n",
      "Requirement already satisfied: idna<2.9,>=2.5 in /opt/anaconda3/lib/python3.7/site-packages (from requests==2.22.0->deeppavlov) (2.8)\n",
      "Requirement already satisfied: certifi>=2017.4.17 in /opt/anaconda3/lib/python3.7/site-packages (from requests==2.22.0->deeppavlov) (2019.11.28)\n",
      "Requirement already satisfied: cryptography>=2.8 in /opt/anaconda3/lib/python3.7/site-packages (from pyopenssl==19.1.0->deeppavlov) (2.8)\n",
      "Requirement already satisfied: aiormq<4,>=3.2.0 in /opt/anaconda3/lib/python3.7/site-packages (from aio-pika==6.4.1->deeppavlov) (3.2.3)\n",
      "Requirement already satisfied: yarl in /opt/anaconda3/lib/python3.7/site-packages (from aio-pika==6.4.1->deeppavlov) (1.5.1)\n",
      "Requirement already satisfied: starlette<=0.12.9,>=0.12.9 in /opt/anaconda3/lib/python3.7/site-packages (from fastapi==0.47.1->deeppavlov) (0.12.9)\n",
      "Requirement already satisfied: joblib>=0.11 in /opt/anaconda3/lib/python3.7/site-packages (from scikit-learn==0.21.2->deeppavlov) (0.14.1)\n",
      "Requirement already satisfied: dawg-python>=0.7 in /opt/anaconda3/lib/python3.7/site-packages (from pymorphy2==0.8->deeppavlov) (0.7.2)\n",
      "Requirement already satisfied: pymorphy2-dicts<3.0,>=2.4 in /opt/anaconda3/lib/python3.7/site-packages (from pymorphy2==0.8->deeppavlov) (2.4.393442.3710985)\n",
      "Requirement already satisfied: docopt>=0.6 in /opt/anaconda3/lib/python3.7/site-packages (from pymorphy2==0.8->deeppavlov) (0.6.2)\n",
      "Requirement already satisfied: cffi!=1.11.3,>=1.8 in /opt/anaconda3/lib/python3.7/site-packages (from cryptography>=2.8->pyopenssl==19.1.0->deeppavlov) (1.14.0)\n",
      "Requirement already satisfied: pamqp==2.3.0 in /opt/anaconda3/lib/python3.7/site-packages (from aiormq<4,>=3.2.0->aio-pika==6.4.1->deeppavlov) (2.3.0)\n",
      "Requirement already satisfied: multidict>=4.0 in /opt/anaconda3/lib/python3.7/site-packages (from yarl->aio-pika==6.4.1->deeppavlov) (4.7.6)\n",
      "Requirement already satisfied: typing-extensions>=3.7.4; python_version < \"3.8\" in /opt/anaconda3/lib/python3.7/site-packages (from yarl->aio-pika==6.4.1->deeppavlov) (3.7.4.3)\n",
      "Requirement already satisfied: pycparser in /opt/anaconda3/lib/python3.7/site-packages (from cffi!=1.11.3,>=1.8->cryptography>=2.8->pyopenssl==19.1.0->deeppavlov) (2.19)\n",
      "2020-09-18 18:08:10.549 INFO in 'deeppavlov.core.common.file'['file'] at line 32: Interpreting 'ner_ontonotes_bert' as '/opt/anaconda3/lib/python3.7/site-packages/deeppavlov/configs/ner/ner_ontonotes_bert.json'\n",
      "Requirement already satisfied: tensorflow==1.15.2 in /opt/anaconda3/lib/python3.7/site-packages (1.15.2)\n",
      "Requirement already satisfied: gast==0.2.2 in /opt/anaconda3/lib/python3.7/site-packages (from tensorflow==1.15.2) (0.2.2)\n",
      "Requirement already satisfied: six>=1.10.0 in /opt/anaconda3/lib/python3.7/site-packages (from tensorflow==1.15.2) (1.14.0)\n",
      "Requirement already satisfied: grpcio>=1.8.6 in /opt/anaconda3/lib/python3.7/site-packages (from tensorflow==1.15.2) (1.32.0)\n",
      "Requirement already satisfied: opt-einsum>=2.3.2 in /opt/anaconda3/lib/python3.7/site-packages (from tensorflow==1.15.2) (3.3.0)\n",
      "Requirement already satisfied: protobuf>=3.6.1 in /opt/anaconda3/lib/python3.7/site-packages (from tensorflow==1.15.2) (3.13.0)\n",
      "Requirement already satisfied: tensorflow-estimator==1.15.1 in /opt/anaconda3/lib/python3.7/site-packages (from tensorflow==1.15.2) (1.15.1)\n",
      "Requirement already satisfied: numpy<2.0,>=1.16.0 in /opt/anaconda3/lib/python3.7/site-packages (from tensorflow==1.15.2) (1.18.0)\n",
      "Requirement already satisfied: wrapt>=1.11.1 in /opt/anaconda3/lib/python3.7/site-packages (from tensorflow==1.15.2) (1.11.2)\n",
      "Requirement already satisfied: absl-py>=0.7.0 in /opt/anaconda3/lib/python3.7/site-packages (from tensorflow==1.15.2) (0.10.0)\n",
      "Requirement already satisfied: tensorboard<1.16.0,>=1.15.0 in /opt/anaconda3/lib/python3.7/site-packages (from tensorflow==1.15.2) (1.15.0)\n",
      "Requirement already satisfied: wheel>=0.26; python_version >= \"3\" in /opt/anaconda3/lib/python3.7/site-packages (from tensorflow==1.15.2) (0.34.2)\n",
      "Requirement already satisfied: keras-applications>=1.0.8 in /opt/anaconda3/lib/python3.7/site-packages (from tensorflow==1.15.2) (1.0.8)\n",
      "Requirement already satisfied: google-pasta>=0.1.6 in /opt/anaconda3/lib/python3.7/site-packages (from tensorflow==1.15.2) (0.2.0)\n",
      "Requirement already satisfied: termcolor>=1.1.0 in /opt/anaconda3/lib/python3.7/site-packages (from tensorflow==1.15.2) (1.1.0)\n",
      "Requirement already satisfied: astor>=0.6.0 in /opt/anaconda3/lib/python3.7/site-packages (from tensorflow==1.15.2) (0.8.1)\n",
      "Requirement already satisfied: keras-preprocessing>=1.0.5 in /opt/anaconda3/lib/python3.7/site-packages (from tensorflow==1.15.2) (1.1.2)\n",
      "Requirement already satisfied: setuptools in /opt/anaconda3/lib/python3.7/site-packages (from protobuf>=3.6.1->tensorflow==1.15.2) (46.0.0.post20200309)\n",
      "Requirement already satisfied: markdown>=2.6.8 in /opt/anaconda3/lib/python3.7/site-packages (from tensorboard<1.16.0,>=1.15.0->tensorflow==1.15.2) (3.2.2)\n",
      "Requirement already satisfied: werkzeug>=0.11.15 in /opt/anaconda3/lib/python3.7/site-packages (from tensorboard<1.16.0,>=1.15.0->tensorflow==1.15.2) (1.0.0)\n",
      "Requirement already satisfied: h5py in /opt/anaconda3/lib/python3.7/site-packages (from keras-applications>=1.0.8->tensorflow==1.15.2) (2.10.0)\n",
      "Requirement already satisfied: importlib-metadata; python_version < \"3.8\" in /opt/anaconda3/lib/python3.7/site-packages (from markdown>=2.6.8->tensorboard<1.16.0,>=1.15.0->tensorflow==1.15.2) (1.5.0)\n",
      "Requirement already satisfied: zipp>=0.5 in /opt/anaconda3/lib/python3.7/site-packages (from importlib-metadata; python_version < \"3.8\"->markdown>=2.6.8->tensorboard<1.16.0,>=1.15.0->tensorflow==1.15.2) (2.2.0)\n",
      "Collecting git+https://github.com/deepmipt/bert.git@feat/multi_gpu\n",
      "  Cloning https://github.com/deepmipt/bert.git (to revision feat/multi_gpu) to /private/var/folders/4k/z9ykb1m97pl2tmpykfb8yhm00000gn/T/pip-req-build-qfia3336\n",
      "  Running command git clone -q https://github.com/deepmipt/bert.git /private/var/folders/4k/z9ykb1m97pl2tmpykfb8yhm00000gn/T/pip-req-build-qfia3336\n",
      "Requirement already satisfied (use --upgrade to upgrade): bert-dp==1.0 from git+https://github.com/deepmipt/bert.git@feat/multi_gpu in /opt/anaconda3/lib/python3.7/site-packages\n",
      "Building wheels for collected packages: bert-dp\n"
     ]
    },
    {
     "name": "stdout",
     "output_type": "stream",
     "text": [
      "  Building wheel for bert-dp (setup.py) ... \u001b[?25ldone\n",
      "\u001b[?25h  Created wheel for bert-dp: filename=bert_dp-1.0-py3-none-any.whl size=23580 sha256=aee26f1e113025c147e14801cbbbf282f511a0ad80b6b5cfb654afe7c3dedddb\n",
      "  Stored in directory: /private/var/folders/4k/z9ykb1m97pl2tmpykfb8yhm00000gn/T/pip-ephem-wheel-cache-1wgbqxbt/wheels/44/29/b2/ee614cb7f97ba5c2d220029eaede3af4b74331ad31d6e2f4eb\n",
      "Successfully built bert-dp\n"
     ]
    }
   ],
   "source": [
    "!pip install spacy\n",
    "!python -m spacy download en_core_web_md\n",
    "\n",
    "!pip install deeppavlov\n",
    "!python -m deeppavlov install ner_ontonotes_bert"
   ]
  },
  {
   "cell_type": "code",
   "execution_count": 10,
   "metadata": {},
   "outputs": [
    {
     "data": {
      "text/plain": [
       "'Pak PM issues orders to keep Maryam Nawaz with father in hospital\\nMaryam was admitted to the Services Hospital in Lahore on Wednesday where she was rushed from the high security Kot Lakhpat jail to meet Sharif on account of his deteriorating health on the directives of Khan and felt sick. The 45-year-old leader was admitted to VVIP ll, while her father is admitted in VVIP-l. She underwent some tests after which she was shifted back to the jail.'"
      ]
     },
     "execution_count": 10,
     "metadata": {},
     "output_type": "execute_result"
    }
   ],
   "source": [
    "db['Content'][0]"
   ]
  },
  {
   "cell_type": "code",
   "execution_count": 11,
   "metadata": {},
   "outputs": [
    {
     "name": "stderr",
     "output_type": "stream",
     "text": [
      "2020-09-18 18:08:21.853 INFO in 'deeppavlov.download'['download'] at line 132: Skipped http://files.deeppavlov.ai/deeppavlov_data/ner_ontonotes_bert_v1.tar.gz download because of matching hashes\n",
      "2020-09-18 18:08:23.404 INFO in 'deeppavlov.download'['download'] at line 132: Skipped http://files.deeppavlov.ai/deeppavlov_data/bert/cased_L-12_H-768_A-12.zip download because of matching hashes\n",
      "[nltk_data] Downloading package punkt to\n",
      "[nltk_data]     /Users/abhilashtrivedi/nltk_data...\n",
      "[nltk_data]   Package punkt is already up-to-date!\n",
      "[nltk_data] Downloading package stopwords to\n",
      "[nltk_data]     /Users/abhilashtrivedi/nltk_data...\n",
      "[nltk_data]   Package stopwords is already up-to-date!\n",
      "[nltk_data] Downloading package perluniprops to\n",
      "[nltk_data]     /Users/abhilashtrivedi/nltk_data...\n",
      "[nltk_data]   Package perluniprops is already up-to-date!\n",
      "[nltk_data] Downloading package nonbreaking_prefixes to\n",
      "[nltk_data]     /Users/abhilashtrivedi/nltk_data...\n",
      "[nltk_data]   Package nonbreaking_prefixes is already up-to-date!\n"
     ]
    },
    {
     "name": "stdout",
     "output_type": "stream",
     "text": [
      "WARNING:tensorflow:From /opt/anaconda3/lib/python3.7/site-packages/bert_dp/tokenization.py:125: The name tf.gfile.GFile is deprecated. Please use tf.io.gfile.GFile instead.\n",
      "\n"
     ]
    },
    {
     "name": "stderr",
     "output_type": "stream",
     "text": [
      "2020-09-18 18:08:28.625 INFO in 'deeppavlov.core.data.simple_vocab'['simple_vocab'] at line 115: [loading vocabulary from /Users/abhilashtrivedi/.deeppavlov/models/ner_ontonotes_bert/tag.dict]\n"
     ]
    },
    {
     "name": "stdout",
     "output_type": "stream",
     "text": [
      "WARNING:tensorflow:From /opt/anaconda3/lib/python3.7/site-packages/deeppavlov/core/models/tf_model.py:37: The name tf.Session is deprecated. Please use tf.compat.v1.Session instead.\n",
      "\n",
      "WARNING:tensorflow:From /opt/anaconda3/lib/python3.7/site-packages/deeppavlov/core/models/tf_model.py:222: The name tf.placeholder is deprecated. Please use tf.compat.v1.placeholder instead.\n",
      "\n",
      "WARNING:tensorflow:From /opt/anaconda3/lib/python3.7/site-packages/deeppavlov/core/models/tf_model.py:222: The name tf.train.Optimizer is deprecated. Please use tf.compat.v1.train.Optimizer instead.\n",
      "\n",
      "WARNING:tensorflow:From /opt/anaconda3/lib/python3.7/site-packages/deeppavlov/core/models/tf_model.py:193: The name tf.train.AdamOptimizer is deprecated. Please use tf.compat.v1.train.AdamOptimizer instead.\n",
      "\n",
      "WARNING:tensorflow:From /opt/anaconda3/lib/python3.7/site-packages/deeppavlov/models/bert/bert_sequence_tagger.py:236: The name tf.ConfigProto is deprecated. Please use tf.compat.v1.ConfigProto instead.\n",
      "\n",
      "WARNING:tensorflow:From /opt/anaconda3/lib/python3.7/site-packages/deeppavlov/models/bert/bert_sequence_tagger.py:314: The name tf.placeholder_with_default is deprecated. Please use tf.compat.v1.placeholder_with_default instead.\n",
      "\n",
      "WARNING:tensorflow:From /opt/anaconda3/lib/python3.7/site-packages/bert_dp/modeling.py:178: The name tf.variable_scope is deprecated. Please use tf.compat.v1.variable_scope instead.\n",
      "\n",
      "WARNING:tensorflow:From /opt/anaconda3/lib/python3.7/site-packages/bert_dp/modeling.py:418: The name tf.get_variable is deprecated. Please use tf.compat.v1.get_variable instead.\n",
      "\n",
      "WARNING:tensorflow:From /opt/anaconda3/lib/python3.7/site-packages/bert_dp/modeling.py:499: The name tf.assert_less_equal is deprecated. Please use tf.compat.v1.assert_less_equal instead.\n",
      "\n",
      "WARNING:tensorflow:\n",
      "The TensorFlow contrib module will not be included in TensorFlow 2.0.\n",
      "For more information, please see:\n",
      "  * https://github.com/tensorflow/community/blob/master/rfcs/20180907-contrib-sunset.md\n",
      "  * https://github.com/tensorflow/addons\n",
      "  * https://github.com/tensorflow/io (for I/O related ops)\n",
      "If you depend on functionality not listed there, please file an issue.\n",
      "\n",
      "WARNING:tensorflow:From /opt/anaconda3/lib/python3.7/site-packages/bert_dp/modeling.py:366: calling dropout (from tensorflow.python.ops.nn_ops) with keep_prob is deprecated and will be removed in a future version.\n",
      "Instructions for updating:\n",
      "Please use `rate` instead of `keep_prob`. Rate should be set to `rate = 1 - keep_prob`.\n",
      "WARNING:tensorflow:From /opt/anaconda3/lib/python3.7/site-packages/bert_dp/modeling.py:680: dense (from tensorflow.python.layers.core) is deprecated and will be removed in a future version.\n",
      "Instructions for updating:\n",
      "Use keras.layers.Dense instead.\n",
      "WARNING:tensorflow:From /opt/anaconda3/lib/python3.7/site-packages/tensorflow_core/python/layers/core.py:187: Layer.apply (from tensorflow.python.keras.engine.base_layer) is deprecated and will be removed in a future version.\n",
      "Instructions for updating:\n",
      "Please use `layer.__call__` method instead.\n",
      "WARNING:tensorflow:From /opt/anaconda3/lib/python3.7/site-packages/bert_dp/modeling.py:283: The name tf.erf is deprecated. Please use tf.math.erf instead.\n",
      "\n",
      "WARNING:tensorflow:Variable *= will be deprecated. Use `var.assign(var * other)` if you want assignment to the variable value or `x = x * y` if you want a new python Tensor object.\n",
      "WARNING:tensorflow:From /opt/anaconda3/lib/python3.7/site-packages/deeppavlov/models/bert/bert_sequence_tagger.py:75: where (from tensorflow.python.ops.array_ops) is deprecated and will be removed in a future version.\n",
      "Instructions for updating:\n",
      "Use tf.where in 2.0, which has the same broadcast rule as np.where\n",
      "WARNING:tensorflow:From /opt/anaconda3/lib/python3.7/site-packages/tensorflow_core/contrib/crf/python/ops/crf.py:213: dynamic_rnn (from tensorflow.python.ops.rnn) is deprecated and will be removed in a future version.\n",
      "Instructions for updating:\n",
      "Please use `keras.layers.RNN(cell)`, which is equivalent to this API\n",
      "WARNING:tensorflow:From /opt/anaconda3/lib/python3.7/site-packages/deeppavlov/core/models/tf_model.py:234: The name tf.train.AdadeltaOptimizer is deprecated. Please use tf.compat.v1.train.AdadeltaOptimizer instead.\n",
      "\n",
      "WARNING:tensorflow:From /opt/anaconda3/lib/python3.7/site-packages/deeppavlov/core/models/tf_model.py:131: The name tf.get_collection is deprecated. Please use tf.compat.v1.get_collection instead.\n",
      "\n",
      "WARNING:tensorflow:From /opt/anaconda3/lib/python3.7/site-packages/deeppavlov/core/models/tf_model.py:131: The name tf.GraphKeys is deprecated. Please use tf.compat.v1.GraphKeys instead.\n",
      "\n",
      "WARNING:tensorflow:From /opt/anaconda3/lib/python3.7/site-packages/deeppavlov/core/models/tf_model.py:94: The name tf.global_variables is deprecated. Please use tf.compat.v1.global_variables instead.\n",
      "\n",
      "WARNING:tensorflow:From /opt/anaconda3/lib/python3.7/site-packages/tensorflow_core/python/training/moving_averages.py:433: Variable.initialized_value (from tensorflow.python.ops.variables) is deprecated and will be removed in a future version.\n",
      "Instructions for updating:\n",
      "Use Variable.read_value. Variables in 2.X are initialized automatically both in eager and graph (inside tf.defun) contexts.\n",
      "WARNING:tensorflow:From /opt/anaconda3/lib/python3.7/site-packages/deeppavlov/models/bert/bert_sequence_tagger.py:671: The name tf.assign is deprecated. Please use tf.compat.v1.assign instead.\n",
      "\n",
      "WARNING:tensorflow:From /opt/anaconda3/lib/python3.7/site-packages/deeppavlov/models/bert/bert_sequence_tagger.py:244: The name tf.global_variables_initializer is deprecated. Please use tf.compat.v1.global_variables_initializer instead.\n",
      "\n",
      "WARNING:tensorflow:From /opt/anaconda3/lib/python3.7/site-packages/deeppavlov/models/bert/bert_sequence_tagger.py:249: checkpoint_exists (from tensorflow.python.training.checkpoint_management) is deprecated and will be removed in a future version.\n",
      "Instructions for updating:\n",
      "Use standard file APIs to check for files with this prefix.\n"
     ]
    },
    {
     "name": "stderr",
     "output_type": "stream",
     "text": [
      "2020-09-18 18:08:51.64 INFO in 'deeppavlov.core.models.tf_model'['tf_model'] at line 51: [loading model from /Users/abhilashtrivedi/.deeppavlov/models/ner_ontonotes_bert/model]\n"
     ]
    },
    {
     "name": "stdout",
     "output_type": "stream",
     "text": [
      "WARNING:tensorflow:From /opt/anaconda3/lib/python3.7/site-packages/deeppavlov/core/models/tf_model.py:54: The name tf.train.Saver is deprecated. Please use tf.compat.v1.train.Saver instead.\n",
      "\n",
      "INFO:tensorflow:Restoring parameters from /Users/abhilashtrivedi/.deeppavlov/models/ner_ontonotes_bert/model\n"
     ]
    },
    {
     "data": {
      "text/plain": [
       "[[['Bob', 'Ross', 'lived', 'in', 'Florida']],\n",
       " [['B-PERSON', 'I-PERSON', 'O', 'O', 'B-GPE']]]"
      ]
     },
     "execution_count": 11,
     "metadata": {},
     "output_type": "execute_result"
    }
   ],
   "source": [
    "from deeppavlov import configs, build_model\n",
    "ner_model = build_model(configs.ner.ner_ontonotes_bert, download=True)\n",
    "ner_model(['Bob Ross lived in Florida'])"
   ]
  },
  {
   "cell_type": "code",
   "execution_count": 12,
   "metadata": {},
   "outputs": [],
   "source": [
    "import en_core_web_md\n",
    "nlp = en_core_web_md.load()"
   ]
  },
  {
   "cell_type": "code",
   "execution_count": null,
   "metadata": {},
   "outputs": [],
   "source": []
  },
  {
   "cell_type": "code",
   "execution_count": 13,
   "metadata": {},
   "outputs": [],
   "source": [
    "from time import time"
   ]
  },
  {
   "cell_type": "markdown",
   "metadata": {},
   "source": [
    "**SPACY**"
   ]
  },
  {
   "cell_type": "code",
   "execution_count": 14,
   "metadata": {},
   "outputs": [
    {
     "name": "stdout",
     "output_type": "stream",
     "text": [
      "0.03365206718444824\n"
     ]
    }
   ],
   "source": [
    "t1=time()\n",
    "text=db['Content'][0]\n",
    "\n",
    "doc=nlp(text)\n",
    "t2=time()\n",
    "print(t2-t1)"
   ]
  },
  {
   "cell_type": "markdown",
   "metadata": {},
   "source": []
  },
  {
   "cell_type": "code",
   "execution_count": 15,
   "metadata": {},
   "outputs": [
    {
     "data": {
      "text/plain": [
       "448"
      ]
     },
     "execution_count": 15,
     "metadata": {},
     "output_type": "execute_result"
    }
   ],
   "source": [
    "len(text)"
   ]
  },
  {
   "cell_type": "code",
   "execution_count": 16,
   "metadata": {},
   "outputs": [
    {
     "data": {
      "text/plain": [
       "[('Pak PM', 'PERSON'),\n",
       " ('Maryam Nawaz', 'PERSON'),\n",
       " ('Maryam', 'PERSON'),\n",
       " ('the Services Hospital', 'ORG'),\n",
       " ('Lahore', 'GPE'),\n",
       " ('Wednesday', 'DATE'),\n",
       " ('Kot Lakhpat', 'PERSON'),\n",
       " ('Sharif', 'PERSON'),\n",
       " ('Khan', 'PERSON'),\n",
       " ('45-year-old', 'DATE')]"
      ]
     },
     "execution_count": 16,
     "metadata": {},
     "output_type": "execute_result"
    }
   ],
   "source": [
    "[(ent.text, ent.label_) for ent in doc.ents]"
   ]
  },
  {
   "cell_type": "markdown",
   "metadata": {},
   "source": [
    "**DEEPPAVLOV**"
   ]
  },
  {
   "cell_type": "code",
   "execution_count": 49,
   "metadata": {},
   "outputs": [
    {
     "name": "stderr",
     "output_type": "stream",
     "text": [
      "100%|██████████| 1/1 [00:00<00:00, 20.08it/s]\n"
     ]
    }
   ],
   "source": [
    "from tqdm import tqdm\n",
    "\n",
    "sentences =[]\n",
    "\n",
    "for article in tqdm(db['Content'][:1]):\n",
    "  doc = nlp(article)\n",
    "  for sent in doc.sents:\n",
    "    if len(sent.text.strip()) > 0:\n",
    "      sentences.append(sent.text)"
   ]
  },
  {
   "cell_type": "code",
   "execution_count": 50,
   "metadata": {},
   "outputs": [
    {
     "name": "stdout",
     "output_type": "stream",
     "text": [
      "0.5505599975585938\n"
     ]
    }
   ],
   "source": [
    "t1=time()\n",
    "\n",
    "doc1=ner_model(sentences)\n",
    "\n",
    "t2=time()\n",
    "print(t2-t1)"
   ]
  },
  {
   "cell_type": "code",
   "execution_count": 52,
   "metadata": {},
   "outputs": [],
   "source": [
    "# doc1[0][0][0]\n"
   ]
  },
  {
   "cell_type": "code",
   "execution_count": 53,
   "metadata": {},
   "outputs": [
    {
     "name": "stdout",
     "output_type": "stream",
     "text": [
      "Requirement already satisfied: polyglot in /opt/anaconda3/lib/python3.7/site-packages (16.7.4)\n",
      "Note: you may need to restart the kernel to use updated packages.\n"
     ]
    }
   ],
   "source": [
    "pip install polyglot"
   ]
  },
  {
   "cell_type": "code",
   "execution_count": 54,
   "metadata": {},
   "outputs": [
    {
     "name": "stdout",
     "output_type": "stream",
     "text": [
      "Requirement already satisfied: PyICU in /opt/anaconda3/lib/python3.7/site-packages (2.5)\n",
      "Note: you may need to restart the kernel to use updated packages.\n"
     ]
    }
   ],
   "source": [
    "pip install PyICU"
   ]
  },
  {
   "cell_type": "code",
   "execution_count": 55,
   "metadata": {},
   "outputs": [
    {
     "name": "stdout",
     "output_type": "stream",
     "text": [
      "Requirement already satisfied: pycld2 in /opt/anaconda3/lib/python3.7/site-packages (0.41)\n",
      "Note: you may need to restart the kernel to use updated packages.\n"
     ]
    }
   ],
   "source": [
    "pip install pycld2\n"
   ]
  },
  {
   "cell_type": "code",
   "execution_count": 56,
   "metadata": {},
   "outputs": [
    {
     "name": "stdout",
     "output_type": "stream",
     "text": [
      "Requirement already satisfied: morfessor in /opt/anaconda3/lib/python3.7/site-packages (2.0.6)\n",
      "Note: you may need to restart the kernel to use updated packages.\n"
     ]
    }
   ],
   "source": [
    "pip install morfessor\n"
   ]
  },
  {
   "cell_type": "code",
   "execution_count": 57,
   "metadata": {},
   "outputs": [],
   "source": [
    "import polyglot\n",
    "from polyglot.text import Text, Word"
   ]
  },
  {
   "cell_type": "code",
   "execution_count": 58,
   "metadata": {},
   "outputs": [
    {
     "name": "stdout",
     "output_type": "stream",
     "text": [
      "[polyglot_data] Downloading package embeddings2.en to\n",
      "[polyglot_data]     /Users/abhilashtrivedi/polyglot_data...\n",
      "[polyglot_data]   Package embeddings2.en is already up-to-date!\n",
      "[polyglot_data] Downloading package ner2.en to\n",
      "[polyglot_data]     /Users/abhilashtrivedi/polyglot_data...\n",
      "[polyglot_data]   Package ner2.en is already up-to-date!\n"
     ]
    }
   ],
   "source": [
    "!polyglot download embeddings2.en\n",
    "!polyglot download ner2.en\n"
   ]
  },
  {
   "cell_type": "code",
   "execution_count": 59,
   "metadata": {},
   "outputs": [
    {
     "name": "stdout",
     "output_type": "stream",
     "text": [
      "0.000141143798828125\n"
     ]
    }
   ],
   "source": [
    "t1=time()\n",
    "for sent in sentences:    \n",
    "    text1 = Text(sent)\n",
    "\n",
    "t2=time()\n",
    "print(t2-t1)"
   ]
  },
  {
   "cell_type": "code",
   "execution_count": 74,
   "metadata": {},
   "outputs": [],
   "source": [
    "def aply_deep(row):\n",
    "    sentences = []\n",
    "    \n",
    "    doc = nlp(row['Content'])\n",
    "    for sent in doc.sents:\n",
    "        if len(sent.text.strip()) > 0:\n",
    "            sentences.append(sent.text)\n",
    "    t1=time()\n",
    "    doc1=ner_model(sentences)\n",
    "    t2=time()\n",
    "    return t2-t1\n",
    "    "
   ]
  },
  {
   "cell_type": "code",
   "execution_count": null,
   "metadata": {},
   "outputs": [],
   "source": []
  },
  {
   "cell_type": "code",
   "execution_count": 75,
   "metadata": {},
   "outputs": [],
   "source": [
    "def spaccy(row):\n",
    "    t1=time()\n",
    "    text=row['Content']\n",
    "    doc=nlp(text)\n",
    "    t2=time()\n",
    "    return t2-t1"
   ]
  },
  {
   "cell_type": "code",
   "execution_count": 76,
   "metadata": {},
   "outputs": [],
   "source": [
    "def polyglo(row):\n",
    "    sentences = []\n",
    "    \n",
    "    doc = nlp(row['Content'])\n",
    "    for sent in doc.sents:\n",
    "        if len(sent.text.strip()) > 0:\n",
    "            sentences.append(sent.text)\n",
    "    t1=time()\n",
    "    for sent in sentences:    \n",
    "        text1 = Text(sent)\n",
    "        \n",
    "    t2=time()\n",
    "    return t2-t1"
   ]
  },
  {
   "cell_type": "code",
   "execution_count": 77,
   "metadata": {},
   "outputs": [],
   "source": [
    "data=db.iloc[:100,:]"
   ]
  },
  {
   "cell_type": "code",
   "execution_count": 78,
   "metadata": {},
   "outputs": [
    {
     "name": "stderr",
     "output_type": "stream",
     "text": [
      "/opt/anaconda3/lib/python3.7/site-packages/ipykernel_launcher.py:1: SettingWithCopyWarning: \n",
      "A value is trying to be set on a copy of a slice from a DataFrame.\n",
      "Try using .loc[row_indexer,col_indexer] = value instead\n",
      "\n",
      "See the caveats in the documentation: http://pandas.pydata.org/pandas-docs/stable/user_guide/indexing.html#returning-a-view-versus-a-copy\n",
      "  \"\"\"Entry point for launching an IPython kernel.\n"
     ]
    }
   ],
   "source": [
    "data['spacy_time']=data.apply(lambda x:spaccy(x),axis=1)"
   ]
  },
  {
   "cell_type": "code",
   "execution_count": 79,
   "metadata": {},
   "outputs": [
    {
     "data": {
      "text/html": [
       "<div>\n",
       "<style scoped>\n",
       "    .dataframe tbody tr th:only-of-type {\n",
       "        vertical-align: middle;\n",
       "    }\n",
       "\n",
       "    .dataframe tbody tr th {\n",
       "        vertical-align: top;\n",
       "    }\n",
       "\n",
       "    .dataframe thead th {\n",
       "        text-align: right;\n",
       "    }\n",
       "</style>\n",
       "<table border=\"1\" class=\"dataframe\">\n",
       "  <thead>\n",
       "    <tr style=\"text-align: right;\">\n",
       "      <th></th>\n",
       "      <th>Title</th>\n",
       "      <th>Content</th>\n",
       "      <th>spacy_time</th>\n",
       "    </tr>\n",
       "  </thead>\n",
       "  <tbody>\n",
       "    <tr>\n",
       "      <th>0</th>\n",
       "      <td>Mohammad Hosseini politician</td>\n",
       "      <td>Pak PM issues orders to keep Maryam Nawaz with...</td>\n",
       "      <td>0.021525</td>\n",
       "    </tr>\n",
       "    <tr>\n",
       "      <th>1</th>\n",
       "      <td>News about seyed-mohammad-hosseini</td>\n",
       "      <td>Expression patterns of seven key genes, includ...</td>\n",
       "      <td>0.050578</td>\n",
       "    </tr>\n",
       "    <tr>\n",
       "      <th>2</th>\n",
       "      <td>Documento DOUE-L-2014-81693</td>\n",
       "      <td>EL CONSEJO DE LA UNIÓN EUROPEA,\\nVisto el Trat...</td>\n",
       "      <td>0.510877</td>\n",
       "    </tr>\n",
       "    <tr>\n",
       "      <th>3</th>\n",
       "      <td>Asser Institute</td>\n",
       "      <td>United States of America v. Ahmed Khalfan Ghai...</td>\n",
       "      <td>0.111195</td>\n",
       "    </tr>\n",
       "    <tr>\n",
       "      <th>4</th>\n",
       "      <td>US sanctions Lebanon's Jammal Trust Bank over ...</td>\n",
       "      <td>The U.S. Treasury's Office of Foreign Assets C...</td>\n",
       "      <td>0.024857</td>\n",
       "    </tr>\n",
       "    <tr>\n",
       "      <th>...</th>\n",
       "      <td>...</td>\n",
       "      <td>...</td>\n",
       "      <td>...</td>\n",
       "    </tr>\n",
       "    <tr>\n",
       "      <th>95</th>\n",
       "      <td>None</td>\n",
       "      <td>LIST ESTABLISHED PURSUANT TO SECURITY COUNCIL ...</td>\n",
       "      <td>1.423999</td>\n",
       "    </tr>\n",
       "    <tr>\n",
       "      <th>96</th>\n",
       "      <td>Libya Company List</td>\n",
       "      <td>Libya Company List\\nThis decline was primarily...</td>\n",
       "      <td>1.203935</td>\n",
       "    </tr>\n",
       "    <tr>\n",
       "      <th>97</th>\n",
       "      <td>Suspicion of illegal ship-to-ship transfers of...</td>\n",
       "      <td>In the daytime on December 16, 2019, P-1 (Air ...</td>\n",
       "      <td>0.029279</td>\n",
       "    </tr>\n",
       "    <tr>\n",
       "      <th>98</th>\n",
       "      <td>Suspicion of illegal ship-to-ship transfers of...</td>\n",
       "      <td>At midnight of July 31, 2018, a AOE 'TOWADA' (...</td>\n",
       "      <td>0.021809</td>\n",
       "    </tr>\n",
       "    <tr>\n",
       "      <th>99</th>\n",
       "      <td>NAM SAN 8, Crude Oil Tanker</td>\n",
       "      <td>The vessel NAM SAN 8 (IMO: 8122347 ) is a Crud...</td>\n",
       "      <td>0.013506</td>\n",
       "    </tr>\n",
       "  </tbody>\n",
       "</table>\n",
       "<p>100 rows × 3 columns</p>\n",
       "</div>"
      ],
      "text/plain": [
       "                                                Title  \\\n",
       "0                        Mohammad Hosseini politician   \n",
       "1                  News about seyed-mohammad-hosseini   \n",
       "2                         Documento DOUE-L-2014-81693   \n",
       "3                                     Asser Institute   \n",
       "4   US sanctions Lebanon's Jammal Trust Bank over ...   \n",
       "..                                                ...   \n",
       "95                                               None   \n",
       "96                                 Libya Company List   \n",
       "97  Suspicion of illegal ship-to-ship transfers of...   \n",
       "98  Suspicion of illegal ship-to-ship transfers of...   \n",
       "99                        NAM SAN 8, Crude Oil Tanker   \n",
       "\n",
       "                                              Content  spacy_time  \n",
       "0   Pak PM issues orders to keep Maryam Nawaz with...    0.021525  \n",
       "1   Expression patterns of seven key genes, includ...    0.050578  \n",
       "2   EL CONSEJO DE LA UNIÓN EUROPEA,\\nVisto el Trat...    0.510877  \n",
       "3   United States of America v. Ahmed Khalfan Ghai...    0.111195  \n",
       "4   The U.S. Treasury's Office of Foreign Assets C...    0.024857  \n",
       "..                                                ...         ...  \n",
       "95  LIST ESTABLISHED PURSUANT TO SECURITY COUNCIL ...    1.423999  \n",
       "96  Libya Company List\\nThis decline was primarily...    1.203935  \n",
       "97  In the daytime on December 16, 2019, P-1 (Air ...    0.029279  \n",
       "98  At midnight of July 31, 2018, a AOE 'TOWADA' (...    0.021809  \n",
       "99  The vessel NAM SAN 8 (IMO: 8122347 ) is a Crud...    0.013506  \n",
       "\n",
       "[100 rows x 3 columns]"
      ]
     },
     "execution_count": 79,
     "metadata": {},
     "output_type": "execute_result"
    }
   ],
   "source": [
    "data"
   ]
  },
  {
   "cell_type": "code",
   "execution_count": 80,
   "metadata": {},
   "outputs": [],
   "source": [
    "# data['deep_time']=data.apply(lambda x:aply_deep(x),axis=1)"
   ]
  },
  {
   "cell_type": "code",
   "execution_count": 81,
   "metadata": {},
   "outputs": [
    {
     "data": {
      "text/html": [
       "<div>\n",
       "<style scoped>\n",
       "    .dataframe tbody tr th:only-of-type {\n",
       "        vertical-align: middle;\n",
       "    }\n",
       "\n",
       "    .dataframe tbody tr th {\n",
       "        vertical-align: top;\n",
       "    }\n",
       "\n",
       "    .dataframe thead th {\n",
       "        text-align: right;\n",
       "    }\n",
       "</style>\n",
       "<table border=\"1\" class=\"dataframe\">\n",
       "  <thead>\n",
       "    <tr style=\"text-align: right;\">\n",
       "      <th></th>\n",
       "      <th>Title</th>\n",
       "      <th>Content</th>\n",
       "      <th>spacy_time</th>\n",
       "    </tr>\n",
       "  </thead>\n",
       "  <tbody>\n",
       "    <tr>\n",
       "      <th>0</th>\n",
       "      <td>Mohammad Hosseini politician</td>\n",
       "      <td>Pak PM issues orders to keep Maryam Nawaz with...</td>\n",
       "      <td>0.021525</td>\n",
       "    </tr>\n",
       "    <tr>\n",
       "      <th>1</th>\n",
       "      <td>News about seyed-mohammad-hosseini</td>\n",
       "      <td>Expression patterns of seven key genes, includ...</td>\n",
       "      <td>0.050578</td>\n",
       "    </tr>\n",
       "    <tr>\n",
       "      <th>2</th>\n",
       "      <td>Documento DOUE-L-2014-81693</td>\n",
       "      <td>EL CONSEJO DE LA UNIÓN EUROPEA,\\nVisto el Trat...</td>\n",
       "      <td>0.510877</td>\n",
       "    </tr>\n",
       "    <tr>\n",
       "      <th>3</th>\n",
       "      <td>Asser Institute</td>\n",
       "      <td>United States of America v. Ahmed Khalfan Ghai...</td>\n",
       "      <td>0.111195</td>\n",
       "    </tr>\n",
       "    <tr>\n",
       "      <th>4</th>\n",
       "      <td>US sanctions Lebanon's Jammal Trust Bank over ...</td>\n",
       "      <td>The U.S. Treasury's Office of Foreign Assets C...</td>\n",
       "      <td>0.024857</td>\n",
       "    </tr>\n",
       "    <tr>\n",
       "      <th>...</th>\n",
       "      <td>...</td>\n",
       "      <td>...</td>\n",
       "      <td>...</td>\n",
       "    </tr>\n",
       "    <tr>\n",
       "      <th>95</th>\n",
       "      <td>None</td>\n",
       "      <td>LIST ESTABLISHED PURSUANT TO SECURITY COUNCIL ...</td>\n",
       "      <td>1.423999</td>\n",
       "    </tr>\n",
       "    <tr>\n",
       "      <th>96</th>\n",
       "      <td>Libya Company List</td>\n",
       "      <td>Libya Company List\\nThis decline was primarily...</td>\n",
       "      <td>1.203935</td>\n",
       "    </tr>\n",
       "    <tr>\n",
       "      <th>97</th>\n",
       "      <td>Suspicion of illegal ship-to-ship transfers of...</td>\n",
       "      <td>In the daytime on December 16, 2019, P-1 (Air ...</td>\n",
       "      <td>0.029279</td>\n",
       "    </tr>\n",
       "    <tr>\n",
       "      <th>98</th>\n",
       "      <td>Suspicion of illegal ship-to-ship transfers of...</td>\n",
       "      <td>At midnight of July 31, 2018, a AOE 'TOWADA' (...</td>\n",
       "      <td>0.021809</td>\n",
       "    </tr>\n",
       "    <tr>\n",
       "      <th>99</th>\n",
       "      <td>NAM SAN 8, Crude Oil Tanker</td>\n",
       "      <td>The vessel NAM SAN 8 (IMO: 8122347 ) is a Crud...</td>\n",
       "      <td>0.013506</td>\n",
       "    </tr>\n",
       "  </tbody>\n",
       "</table>\n",
       "<p>100 rows × 3 columns</p>\n",
       "</div>"
      ],
      "text/plain": [
       "                                                Title  \\\n",
       "0                        Mohammad Hosseini politician   \n",
       "1                  News about seyed-mohammad-hosseini   \n",
       "2                         Documento DOUE-L-2014-81693   \n",
       "3                                     Asser Institute   \n",
       "4   US sanctions Lebanon's Jammal Trust Bank over ...   \n",
       "..                                                ...   \n",
       "95                                               None   \n",
       "96                                 Libya Company List   \n",
       "97  Suspicion of illegal ship-to-ship transfers of...   \n",
       "98  Suspicion of illegal ship-to-ship transfers of...   \n",
       "99                        NAM SAN 8, Crude Oil Tanker   \n",
       "\n",
       "                                              Content  spacy_time  \n",
       "0   Pak PM issues orders to keep Maryam Nawaz with...    0.021525  \n",
       "1   Expression patterns of seven key genes, includ...    0.050578  \n",
       "2   EL CONSEJO DE LA UNIÓN EUROPEA,\\nVisto el Trat...    0.510877  \n",
       "3   United States of America v. Ahmed Khalfan Ghai...    0.111195  \n",
       "4   The U.S. Treasury's Office of Foreign Assets C...    0.024857  \n",
       "..                                                ...         ...  \n",
       "95  LIST ESTABLISHED PURSUANT TO SECURITY COUNCIL ...    1.423999  \n",
       "96  Libya Company List\\nThis decline was primarily...    1.203935  \n",
       "97  In the daytime on December 16, 2019, P-1 (Air ...    0.029279  \n",
       "98  At midnight of July 31, 2018, a AOE 'TOWADA' (...    0.021809  \n",
       "99  The vessel NAM SAN 8 (IMO: 8122347 ) is a Crud...    0.013506  \n",
       "\n",
       "[100 rows x 3 columns]"
      ]
     },
     "execution_count": 81,
     "metadata": {},
     "output_type": "execute_result"
    }
   ],
   "source": [
    "data"
   ]
  },
  {
   "cell_type": "code",
   "execution_count": 82,
   "metadata": {},
   "outputs": [
    {
     "name": "stderr",
     "output_type": "stream",
     "text": [
      "/opt/anaconda3/lib/python3.7/site-packages/ipykernel_launcher.py:1: SettingWithCopyWarning: \n",
      "A value is trying to be set on a copy of a slice from a DataFrame.\n",
      "Try using .loc[row_indexer,col_indexer] = value instead\n",
      "\n",
      "See the caveats in the documentation: http://pandas.pydata.org/pandas-docs/stable/user_guide/indexing.html#returning-a-view-versus-a-copy\n",
      "  \"\"\"Entry point for launching an IPython kernel.\n"
     ]
    }
   ],
   "source": [
    "data['polyglot_time']=data.apply(lambda x:polyglo(x),axis=1)"
   ]
  },
  {
   "cell_type": "code",
   "execution_count": 27,
   "metadata": {},
   "outputs": [
    {
     "data": {
      "text/html": [
       "<div>\n",
       "<style scoped>\n",
       "    .dataframe tbody tr th:only-of-type {\n",
       "        vertical-align: middle;\n",
       "    }\n",
       "\n",
       "    .dataframe tbody tr th {\n",
       "        vertical-align: top;\n",
       "    }\n",
       "\n",
       "    .dataframe thead th {\n",
       "        text-align: right;\n",
       "    }\n",
       "</style>\n",
       "<table border=\"1\" class=\"dataframe\">\n",
       "  <thead>\n",
       "    <tr style=\"text-align: right;\">\n",
       "      <th></th>\n",
       "      <th>Title</th>\n",
       "      <th>Content</th>\n",
       "      <th>spacy_time</th>\n",
       "    </tr>\n",
       "  </thead>\n",
       "  <tbody>\n",
       "    <tr>\n",
       "      <th>0</th>\n",
       "      <td>Mohammad Hosseini politician</td>\n",
       "      <td>Pak PM issues orders to keep Maryam Nawaz with...</td>\n",
       "      <td>0.023822</td>\n",
       "    </tr>\n",
       "    <tr>\n",
       "      <th>1</th>\n",
       "      <td>News about seyed-mohammad-hosseini</td>\n",
       "      <td>Expression patterns of seven key genes, includ...</td>\n",
       "      <td>0.079374</td>\n",
       "    </tr>\n",
       "    <tr>\n",
       "      <th>2</th>\n",
       "      <td>Documento DOUE-L-2014-81693</td>\n",
       "      <td>EL CONSEJO DE LA UNIÓN EUROPEA,\\nVisto el Trat...</td>\n",
       "      <td>0.596352</td>\n",
       "    </tr>\n",
       "    <tr>\n",
       "      <th>3</th>\n",
       "      <td>Asser Institute</td>\n",
       "      <td>United States of America v. Ahmed Khalfan Ghai...</td>\n",
       "      <td>0.136936</td>\n",
       "    </tr>\n",
       "    <tr>\n",
       "      <th>4</th>\n",
       "      <td>US sanctions Lebanon's Jammal Trust Bank over ...</td>\n",
       "      <td>The U.S. Treasury's Office of Foreign Assets C...</td>\n",
       "      <td>0.032785</td>\n",
       "    </tr>\n",
       "    <tr>\n",
       "      <th>...</th>\n",
       "      <td>...</td>\n",
       "      <td>...</td>\n",
       "      <td>...</td>\n",
       "    </tr>\n",
       "    <tr>\n",
       "      <th>95</th>\n",
       "      <td>None</td>\n",
       "      <td>LIST ESTABLISHED PURSUANT TO SECURITY COUNCIL ...</td>\n",
       "      <td>1.907105</td>\n",
       "    </tr>\n",
       "    <tr>\n",
       "      <th>96</th>\n",
       "      <td>Libya Company List</td>\n",
       "      <td>Libya Company List\\nThis decline was primarily...</td>\n",
       "      <td>1.473541</td>\n",
       "    </tr>\n",
       "    <tr>\n",
       "      <th>97</th>\n",
       "      <td>Suspicion of illegal ship-to-ship transfers of...</td>\n",
       "      <td>In the daytime on December 16, 2019, P-1 (Air ...</td>\n",
       "      <td>0.035992</td>\n",
       "    </tr>\n",
       "    <tr>\n",
       "      <th>98</th>\n",
       "      <td>Suspicion of illegal ship-to-ship transfers of...</td>\n",
       "      <td>At midnight of July 31, 2018, a AOE 'TOWADA' (...</td>\n",
       "      <td>0.025349</td>\n",
       "    </tr>\n",
       "    <tr>\n",
       "      <th>99</th>\n",
       "      <td>NAM SAN 8, Crude Oil Tanker</td>\n",
       "      <td>The vessel NAM SAN 8 (IMO: 8122347 ) is a Crud...</td>\n",
       "      <td>0.017076</td>\n",
       "    </tr>\n",
       "  </tbody>\n",
       "</table>\n",
       "<p>100 rows × 3 columns</p>\n",
       "</div>"
      ],
      "text/plain": [
       "                                                Title  \\\n",
       "0                        Mohammad Hosseini politician   \n",
       "1                  News about seyed-mohammad-hosseini   \n",
       "2                         Documento DOUE-L-2014-81693   \n",
       "3                                     Asser Institute   \n",
       "4   US sanctions Lebanon's Jammal Trust Bank over ...   \n",
       "..                                                ...   \n",
       "95                                               None   \n",
       "96                                 Libya Company List   \n",
       "97  Suspicion of illegal ship-to-ship transfers of...   \n",
       "98  Suspicion of illegal ship-to-ship transfers of...   \n",
       "99                        NAM SAN 8, Crude Oil Tanker   \n",
       "\n",
       "                                              Content  spacy_time  \n",
       "0   Pak PM issues orders to keep Maryam Nawaz with...    0.023822  \n",
       "1   Expression patterns of seven key genes, includ...    0.079374  \n",
       "2   EL CONSEJO DE LA UNIÓN EUROPEA,\\nVisto el Trat...    0.596352  \n",
       "3   United States of America v. Ahmed Khalfan Ghai...    0.136936  \n",
       "4   The U.S. Treasury's Office of Foreign Assets C...    0.032785  \n",
       "..                                                ...         ...  \n",
       "95  LIST ESTABLISHED PURSUANT TO SECURITY COUNCIL ...    1.907105  \n",
       "96  Libya Company List\\nThis decline was primarily...    1.473541  \n",
       "97  In the daytime on December 16, 2019, P-1 (Air ...    0.035992  \n",
       "98  At midnight of July 31, 2018, a AOE 'TOWADA' (...    0.025349  \n",
       "99  The vessel NAM SAN 8 (IMO: 8122347 ) is a Crud...    0.017076  \n",
       "\n",
       "[100 rows x 3 columns]"
      ]
     },
     "execution_count": 27,
     "metadata": {},
     "output_type": "execute_result"
    }
   ],
   "source": [
    "data"
   ]
  },
  {
   "cell_type": "code",
   "execution_count": 83,
   "metadata": {},
   "outputs": [
    {
     "name": "stdout",
     "output_type": "stream",
     "text": [
      "0.2707021236419678\n"
     ]
    }
   ],
   "source": [
    "t1=time()\n",
    "doc1=ner_model(sentences)\n",
    "t2=time()\n",
    "print(t2-t1)"
   ]
  },
  {
   "cell_type": "code",
   "execution_count": 84,
   "metadata": {},
   "outputs": [
    {
     "data": {
      "text/plain": [
       "['Pak PM issues orders to keep Maryam Nawaz with father in hospital\\n',\n",
       " 'Maryam was admitted to the Services Hospital in Lahore on Wednesday where she was rushed from the high security Kot Lakhpat jail to meet Sharif on account of his deteriorating health on the directives of Khan and felt sick.',\n",
       " 'The 45-year-old leader was admitted to VVIP ll, while her father is admitted in VVIP-l.',\n",
       " 'She underwent some tests after which she was shifted back to the jail.']"
      ]
     },
     "execution_count": 84,
     "metadata": {},
     "output_type": "execute_result"
    }
   ],
   "source": [
    "sentences"
   ]
  },
  {
   "cell_type": "code",
   "execution_count": null,
   "metadata": {},
   "outputs": [],
   "source": []
  },
  {
   "cell_type": "code",
   "execution_count": 86,
   "metadata": {},
   "outputs": [
    {
     "data": {
      "text/plain": [
       "pandas.core.frame.DataFrame"
      ]
     },
     "execution_count": 86,
     "metadata": {},
     "output_type": "execute_result"
    }
   ],
   "source": [
    "type(data)"
   ]
  },
  {
   "cell_type": "code",
   "execution_count": null,
   "metadata": {},
   "outputs": [],
   "source": []
  },
  {
   "cell_type": "code",
   "execution_count": null,
   "metadata": {},
   "outputs": [],
   "source": []
  },
  {
   "cell_type": "code",
   "execution_count": null,
   "metadata": {},
   "outputs": [],
   "source": []
  },
  {
   "cell_type": "code",
   "execution_count": null,
   "metadata": {},
   "outputs": [],
   "source": []
  }
 ],
 "metadata": {
  "kernelspec": {
   "display_name": "Python 3",
   "language": "python",
   "name": "python3"
  },
  "language_info": {
   "codemirror_mode": {
    "name": "ipython",
    "version": 3
   },
   "file_extension": ".py",
   "mimetype": "text/x-python",
   "name": "python",
   "nbconvert_exporter": "python",
   "pygments_lexer": "ipython3",
   "version": "3.7.6"
  }
 },
 "nbformat": 4,
 "nbformat_minor": 4
}
